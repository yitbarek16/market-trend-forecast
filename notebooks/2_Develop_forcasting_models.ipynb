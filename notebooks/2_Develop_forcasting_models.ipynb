{
  "cells": [
    {
      "cell_type": "markdown",
      "metadata": {
        "id": "y_TFHZVajfCW"
      },
      "source": [
        "# Develop Time Series Forecasting Models - colab version"
      ]
    },
    {
      "cell_type": "markdown",
      "metadata": {
        "id": "EhEYzV9ljmcY"
      },
      "source": [
        "Setup & Imports"
      ]
    },
    {
      "cell_type": "code",
      "execution_count": null,
      "metadata": {
        "id": "8HNwpnqbm6L0"
      },
      "outputs": [],
      "source": [
        "import numpy as np\n",
        "import pandas as pd\n",
        "import matplotlib.pyplot as plt\n",
        "from statsmodels.tsa.arima.model import ARIMA\n",
        "from pmdarima import auto_arima\n",
        "from sklearn.preprocessing import MinMaxScaler\n",
        "from tensorflow.keras.models import Sequential\n",
        "from tensorflow.keras.layers import LSTM, Dense\n",
        "from sklearn.metrics import mean_absolute_error, mean_squared_error\n",
        "from arch import arch_model\n",
        "import tensorflow as tf"
      ]
    },
    {
      "cell_type": "code",
      "execution_count": null,
      "metadata": {
        "colab": {
          "base_uri": "https://localhost:8080/"
        },
        "id": "b3IqLUZnmxrw",
        "outputId": "a8cab837-1e4f-43ff-d5c6-36e30ecbc9c4"
      },
      "outputs": [
        {
          "name": "stdout",
          "output_type": "stream",
          "text": [
            "Mounted at /content/drive\n"
          ]
        }
      ],
      "source": [
        "from google.colab import drive\n",
        "drive.mount('/content/drive')\n",
        "\n",
        "# Load your processed data (upload to Colab first or access from Drive)\n",
        "df = pd.read_csv('/content/drive/MyDrive/processed_data.csv',\n",
        "                 parse_dates=['Date'],\n",
        "                 index_col='Date')"
      ]
    },
    {
      "cell_type": "code",
      "execution_count": null,
      "metadata": {
        "colab": {
          "base_uri": "https://localhost:8080/"
        },
        "id": "YFJimPhcyDB4",
        "outputId": "b74cd958-35c3-48c4-d8e7-b8b8c605e883"
      },
      "outputs": [
        {
          "name": "stdout",
          "output_type": "stream",
          "text": [
            "Train rows: 2187 Test rows: 413\n"
          ]
        }
      ],
      "source": [
        "series = df['Close_TSLA'].sort_index()\n",
        "series = series.asfreq('B').ffill()\n",
        "# Train/test split\n",
        "train = series.loc[:'2023-12-31'].copy()\n",
        "test  = series.loc['2024-01-01':].copy()\n",
        "print(\"Train rows:\", len(train), \"Test rows:\", len(test))"
      ]
    },
    {
      "cell_type": "markdown",
      "metadata": {
        "id": "u-xiAM2Sj6WS"
      },
      "source": [
        "**Part A: ARIMA workflow**"
      ]
    },
    {
      "cell_type": "code",
      "execution_count": null,
      "metadata": {
        "colab": {
          "base_uri": "https://localhost:8080/"
        },
        "collapsed": true,
        "id": "s43S7QgAyZEx",
        "outputId": "6688c387-10f8-400b-a61d-0ca11619c8fe"
      },
      "outputs": [],
      "source": [
        "# Use auto_arima to get order\n",
        "arima_auto = auto_arima(train, seasonal=False, stepwise=True, error_action='ignore', suppress_warnings=True, max_p=5, max_q=5)"
      ]
    },
    {
      "cell_type": "code",
      "execution_count": null,
      "metadata": {
        "colab": {
          "base_uri": "https://localhost:8080/"
        },
        "id": "S1GEAwgMyvpd",
        "outputId": "bd95842c-0b3e-451d-a894-128cfd7826a4"
      },
      "outputs": [
        {
          "name": "stdout",
          "output_type": "stream",
          "text": [
            "                               SARIMAX Results                                \n",
            "==============================================================================\n",
            "Dep. Variable:             Close_TSLA   No. Observations:                 2187\n",
            "Model:                 ARIMA(1, 1, 2)   Log Likelihood               -7060.141\n",
            "Date:                Tue, 12 Aug 2025   AIC                          14128.283\n",
            "Time:                        05:47:57   BIC                          14151.042\n",
            "Sample:                    08-13-2015   HQIC                         14136.602\n",
            "                         - 12-29-2023                                         \n",
            "Covariance Type:                  opg                                         \n",
            "==============================================================================\n",
            "                 coef    std err          z      P>|z|      [0.025      0.975]\n",
            "------------------------------------------------------------------------------\n",
            "ar.L1         -0.9265      0.030    -30.601      0.000      -0.986      -0.867\n",
            "ma.L1          0.8518      0.031     27.279      0.000       0.791       0.913\n",
            "ma.L2         -0.0437      0.014     -3.026      0.002      -0.072      -0.015\n",
            "sigma2        37.3945      0.498     75.165      0.000      36.419      38.370\n",
            "===================================================================================\n",
            "Ljung-Box (L1) (Q):                   0.00   Jarque-Bera (JB):              8094.89\n",
            "Prob(Q):                              0.97   Prob(JB):                         0.00\n",
            "Heteroskedasticity (H):             431.42   Skew:                            -0.67\n",
            "Prob(H) (two-sided):                  0.00   Kurtosis:                        12.33\n",
            "===================================================================================\n",
            "\n",
            "Warnings:\n",
            "[1] Covariance matrix calculated using the outer product of gradients (complex-step).\n"
          ]
        }
      ],
      "source": [
        "# Fit statsmodels ARIMA with the selected order\n",
        "order = arima_auto.order\n",
        "arima_mod = ARIMA(train, order=order)\n",
        "arima_res = arima_mod.fit()\n",
        "print(arima_res.summary())"
      ]
    },
    {
      "cell_type": "code",
      "execution_count": null,
      "metadata": {
        "id": "ULOzau_8yz4u"
      },
      "outputs": [],
      "source": [
        "# Forecast on test period with conf intervals\n",
        "n_test = len(test)\n",
        "arima_pred_res = arima_res.get_forecast(steps=n_test)\n",
        "arima_pred = arima_pred_res.predicted_mean\n",
        "arima_ci = arima_pred_res.conf_int(alpha=0.05)  # 95% CI\n",
        "arima_pred.index = test.index\n",
        "arima_ci.index = test.index"
      ]
    },
    {
      "cell_type": "code",
      "execution_count": null,
      "metadata": {
        "colab": {
          "base_uri": "https://localhost:8080/"
        },
        "id": "2moMYkKNy4l1",
        "outputId": "9dd1aa18-4e46-410f-eac8-0fa2da28a03c"
      },
      "outputs": [
        {
          "name": "stdout",
          "output_type": "stream",
          "text": [
            "                       Zero Mean - GARCH Model Results                        \n",
            "==============================================================================\n",
            "Dep. Variable:                   None   R-squared:                       0.000\n",
            "Mean Model:                 Zero Mean   Adj. R-squared:                  0.000\n",
            "Vol Model:                      GARCH   Log-Likelihood:               -4553.55\n",
            "Distribution:                  Normal   AIC:                           9113.10\n",
            "Method:            Maximum Likelihood   BIC:                           9130.17\n",
            "                                        No. Observations:                 2187\n",
            "Date:                Tue, Aug 12 2025   Df Residuals:                     2187\n",
            "Time:                        05:48:09   Df Model:                            0\n",
            "                              Volatility Model                              \n",
            "============================================================================\n",
            "                 coef    std err          t      P>|t|      95.0% Conf. Int.\n",
            "----------------------------------------------------------------------------\n",
            "omega      5.5387e-03  2.446e-03      2.264  2.356e-02 [7.443e-04,1.033e-02]\n",
            "alpha[1]       0.1041  1.479e-02      7.041  1.907e-12   [7.515e-02,  0.133]\n",
            "beta[1]        0.8959  1.401e-02     63.965      0.000     [  0.868,  0.923]\n",
            "============================================================================\n",
            "\n",
            "Covariance estimator: robust\n"
          ]
        }
      ],
      "source": [
        "# Fit GARCH on residuals\n",
        "do_garch = True\n",
        "if do_garch:\n",
        "    try:\n",
        "        resid = arima_res.resid.dropna()\n",
        "        garch = arch_model(resid, mean='Zero', vol='Garch', p=1, q=1)\n",
        "        garch_res = garch.fit(disp='off')\n",
        "        print(garch_res.summary())\n",
        "    except Exception as e:\n",
        "        print(\"GARCH failed:\", e)"
      ]
    },
    {
      "cell_type": "code",
      "execution_count": null,
      "metadata": {
        "id": "cjsrMnyU4ZT4"
      },
      "outputs": [],
      "source": [
        "def mape(y, yhat):\n",
        "    return np.mean(np.abs((y - yhat) / y)) * 100"
      ]
    },
    {
      "cell_type": "code",
      "execution_count": null,
      "metadata": {
        "colab": {
          "base_uri": "https://localhost:8080/"
        },
        "id": "IvwP03uF1Ccg",
        "outputId": "1eb6d485-5d82-4535-9be4-1ffed29c3c69"
      },
      "outputs": [
        {
          "name": "stdout",
          "output_type": "stream",
          "text": [
            "ARIMA MAE: 64.3714, RMSE: 78.2816, MAPE: 25.093%\n"
          ]
        }
      ],
      "source": [
        "arima_mae = mean_absolute_error(test, arima_pred)\n",
        "arima_rmse = np.sqrt(mean_squared_error(test, arima_pred))\n",
        "arima_mape = mape(test.values, arima_pred.values)\n",
        "print(\"ARIMA MAE: {:.4f}, RMSE: {:.4f}, MAPE: {:.3f}%\".format(arima_mae, arima_rmse, arima_mape))"
      ]
    },
    {
      "cell_type": "markdown",
      "metadata": {
        "id": "oDaeLIUrkUqh"
      },
      "source": [
        "**Part B: LSTM with Scaling**"
      ]
    },
    {
      "cell_type": "code",
      "execution_count": null,
      "metadata": {
        "id": "RtQqJx3Ozk1W"
      },
      "outputs": [],
      "source": [
        "# Fix seeds for reproducibility\n",
        "tf.random.set_seed(42)\n",
        "np.random.seed(42)"
      ]
    },
    {
      "cell_type": "code",
      "execution_count": null,
      "metadata": {
        "id": "62feYkj8y_xs"
      },
      "outputs": [],
      "source": [
        "# Scale the data (fit only on training set)\n",
        "scaler = MinMaxScaler(feature_range=(0, 1))\n",
        "train_scaled = scaler.fit_transform(train.values.reshape(-1, 1))\n",
        "test_scaled = scaler.transform(test.values.reshape(-1, 1))\n"
      ]
    },
    {
      "cell_type": "code",
      "execution_count": null,
      "metadata": {
        "id": "tt_JCuytngyj"
      },
      "outputs": [],
      "source": [
        "# Function to create sequences\n",
        "def create_sequences(data, seq_length=60):\n",
        "    X, y = [], []\n",
        "    for i in range(len(data) - seq_length):\n",
        "        X.append(data[i:i+seq_length])\n",
        "        y.append(data[i+seq_length])\n",
        "    return np.array(X), np.array(y)\n",
        "\n",
        "SEQ_LEN = 60  # number of time steps for LSTM input\n",
        "\n",
        "X_train, y_train = create_sequences(train_scaled, SEQ_LEN)\n",
        "X_test, y_test = create_sequences(test_scaled, SEQ_LEN)"
      ]
    },
    {
      "cell_type": "code",
      "execution_count": null,
      "metadata": {
        "id": "uWXDCWiT77dX"
      },
      "outputs": [],
      "source": [
        "# Reshape for LSTM [samples, time steps, features]\n",
        "X_train = X_train.reshape((X_train.shape[0], X_train.shape[1], 1))\n",
        "X_test = X_test.reshape((X_test.shape[0], X_test.shape[1], 1))"
      ]
    },
    {
      "cell_type": "code",
      "execution_count": null,
      "metadata": {
        "id": "dLudFeGXqhQ4"
      },
      "outputs": [],
      "source": [
        "# Build LSTM model\n",
        "model = Sequential()\n",
        "model.add(LSTM(64, input_shape=(SEQ_LEN, 1), activation='tanh'))\n",
        "model.add(Dense(1))\n",
        "model.compile(optimizer='adam', loss='mse')"
      ]
    },
    {
      "cell_type": "code",
      "execution_count": null,
      "metadata": {
        "colab": {
          "base_uri": "https://localhost:8080/"
        },
        "collapsed": true,
        "id": "6qZpwuVY8rKN",
        "outputId": "32f06e93-2ef9-42f6-b2ea-107ae38a080c"
      },
      "outputs": [
        {
          "name": "stdout",
          "output_type": "stream",
          "text": [
            "Epoch 1/30\n",
            "60/60 [==============================] - 5s 40ms/step - loss: 0.0116 - val_loss: 0.0022\n",
            "Epoch 2/30\n",
            "60/60 [==============================] - 3s 45ms/step - loss: 0.0011 - val_loss: 0.0014\n",
            "Epoch 3/30\n",
            "60/60 [==============================] - 3s 44ms/step - loss: 8.9841e-04 - val_loss: 0.0015\n",
            "Epoch 4/30\n",
            "60/60 [==============================] - 2s 31ms/step - loss: 8.3697e-04 - val_loss: 0.0013\n",
            "Epoch 5/30\n",
            "60/60 [==============================] - 2s 31ms/step - loss: 8.0582e-04 - val_loss: 0.0013\n",
            "Epoch 6/30\n",
            "60/60 [==============================] - 2s 31ms/step - loss: 7.4025e-04 - val_loss: 0.0012\n",
            "Epoch 7/30\n",
            "60/60 [==============================] - 2s 30ms/step - loss: 6.9112e-04 - val_loss: 0.0011\n",
            "Epoch 8/30\n",
            "60/60 [==============================] - 2s 31ms/step - loss: 6.3120e-04 - val_loss: 9.1268e-04\n",
            "Epoch 9/30\n",
            "60/60 [==============================] - 3s 49ms/step - loss: 6.2866e-04 - val_loss: 0.0011\n",
            "Epoch 10/30\n",
            "60/60 [==============================] - 2s 40ms/step - loss: 6.0045e-04 - val_loss: 8.3683e-04\n",
            "Epoch 11/30\n",
            "60/60 [==============================] - 2s 31ms/step - loss: 5.5569e-04 - val_loss: 9.3191e-04\n",
            "Epoch 12/30\n",
            "60/60 [==============================] - 2s 31ms/step - loss: 5.9684e-04 - val_loss: 9.4201e-04\n",
            "Epoch 13/30\n",
            "60/60 [==============================] - 2s 31ms/step - loss: 5.4375e-04 - val_loss: 7.3309e-04\n",
            "Epoch 14/30\n",
            "60/60 [==============================] - 2s 30ms/step - loss: 5.0203e-04 - val_loss: 7.1444e-04\n",
            "Epoch 15/30\n",
            "60/60 [==============================] - 2s 33ms/step - loss: 4.7954e-04 - val_loss: 8.1465e-04\n",
            "Epoch 16/30\n",
            "60/60 [==============================] - 3s 50ms/step - loss: 4.8877e-04 - val_loss: 6.9680e-04\n",
            "Epoch 17/30\n",
            "60/60 [==============================] - 3s 51ms/step - loss: 5.1373e-04 - val_loss: 6.3647e-04\n",
            "Epoch 18/30\n",
            "60/60 [==============================] - 2s 30ms/step - loss: 4.2698e-04 - val_loss: 6.4234e-04\n",
            "Epoch 19/30\n",
            "60/60 [==============================] - 2s 34ms/step - loss: 4.3555e-04 - val_loss: 9.8296e-04\n",
            "Epoch 20/30\n",
            "60/60 [==============================] - 3s 47ms/step - loss: 4.3669e-04 - val_loss: 6.7829e-04\n",
            "Epoch 21/30\n",
            "60/60 [==============================] - 4s 63ms/step - loss: 4.4827e-04 - val_loss: 5.8488e-04\n",
            "Epoch 22/30\n",
            "60/60 [==============================] - 3s 47ms/step - loss: 4.1748e-04 - val_loss: 6.0359e-04\n",
            "Epoch 23/30\n",
            "60/60 [==============================] - 2s 32ms/step - loss: 4.2261e-04 - val_loss: 6.0390e-04\n",
            "Epoch 24/30\n",
            "60/60 [==============================] - 2s 32ms/step - loss: 3.8232e-04 - val_loss: 7.7612e-04\n",
            "Epoch 25/30\n",
            "60/60 [==============================] - 2s 31ms/step - loss: 4.1997e-04 - val_loss: 5.4444e-04\n",
            "Epoch 26/30\n",
            "60/60 [==============================] - 2s 31ms/step - loss: 3.5893e-04 - val_loss: 5.6524e-04\n",
            "Epoch 27/30\n",
            "60/60 [==============================] - 2s 31ms/step - loss: 3.5755e-04 - val_loss: 5.2969e-04\n",
            "Epoch 28/30\n",
            "60/60 [==============================] - 3s 50ms/step - loss: 3.6066e-04 - val_loss: 5.2318e-04\n",
            "Epoch 29/30\n",
            "60/60 [==============================] - 2s 41ms/step - loss: 3.7230e-04 - val_loss: 5.2464e-04\n",
            "Epoch 30/30\n",
            "60/60 [==============================] - 2s 31ms/step - loss: 3.5738e-04 - val_loss: 5.6516e-04\n"
          ]
        }
      ],
      "source": [
        "# Train model\n",
        "history = model.fit(\n",
        "    X_train, y_train,\n",
        "    epochs=30,\n",
        "    batch_size=32,\n",
        "    validation_split=0.1,\n",
        "    verbose=1\n",
        ")"
      ]
    },
    {
      "cell_type": "code",
      "execution_count": null,
      "metadata": {
        "colab": {
          "base_uri": "https://localhost:8080/"
        },
        "collapsed": true,
        "id": "rw9cyuL3qrNk",
        "outputId": "4504e33a-6f5e-4bf7-d1d5-3be8b66fd4ca"
      },
      "outputs": [
        {
          "name": "stdout",
          "output_type": "stream",
          "text": [
            "12/12 [==============================] - 1s 10ms/step\n"
          ]
        }
      ],
      "source": [
        "# Make predictions (scaled)\n",
        "lstm_pred_scaled = model.predict(X_test)"
      ]
    },
    {
      "cell_type": "code",
      "execution_count": null,
      "metadata": {
        "id": "BrjA5xcj9E82"
      },
      "outputs": [],
      "source": [
        "# Inverse transform to original scale\n",
        "lstm_pred = scaler.inverse_transform(lstm_pred_scaled)\n",
        "y_test_rescaled = scaler.inverse_transform(y_test)"
      ]
    },
    {
      "cell_type": "code",
      "execution_count": null,
      "metadata": {
        "colab": {
          "base_uri": "https://localhost:8080/"
        },
        "collapsed": true,
        "id": "lXx9e_4g9JP6",
        "outputId": "903fe8bf-da6b-4711-af25-155f8d03bc05"
      },
      "outputs": [
        {
          "name": "stdout",
          "output_type": "stream",
          "text": [
            "LSTM MAE: 11.3319, RMSE: 15.1031, MAPE: 4.205%\n"
          ]
        }
      ],
      "source": [
        "\n"
      ]
    },
    {
      "cell_type": "markdown",
      "metadata": {
        "id": "yBOc-Jf5kuMt"
      },
      "source": [
        "**Compare ARIMA and LSTM**"
      ]
    },
    {
      "cell_type": "markdown",
      "metadata": {
        "id": "EiQHImyJl1FD"
      },
      "source": [
        " Evaluate"
      ]
    },
    {
      "cell_type": "code",
      "execution_count": null,
      "metadata": {
        "id": "jRnveAw2lxmb"
      },
      "outputs": [],
      "source": [
        "from sklearn.metrics import mean_absolute_error, mean_squared_error\n",
        "\n",
        "lstm_mae = mean_absolute_error(y_test_rescaled, lstm_pred)\n",
        "lstm_rmse = np.sqrt(mean_squared_error(y_test_rescaled, lstm_pred))\n",
        "lstm_mape = np.mean(np.abs((y_test_rescaled - lstm_pred) / y_test_rescaled)) * 100\n",
        "\n",
        "arima_mae = mean_absolute_error(test, arima_pred)\n",
        "arima_rmse = np.sqrt(mean_squared_error(test, arima_pred))\n",
        "arima_mape = np.mean(np.abs((test - arima_pred) / test)) * 100\n",
        "\n",
        "print(\"LSTM MAE: {:.4f}, RMSE: {:.4f}, MAPE: {:.3f}%\".format(lstm_mae, lstm_rmse, lstm_mape))\n",
        "print(\"ARIMA MAE: {:.4f}, RMSE: {:.4f}, MAPE: {:.3f}%\".format(arima_mae, arima_rmse, arima_mape))"
      ]
    },
    {
      "cell_type": "markdown",
      "metadata": {
        "id": "nYVKx_Iak7h_"
      },
      "source": [
        " Align predictions with test dates"
      ]
    },
    {
      "cell_type": "code",
      "execution_count": null,
      "metadata": {
        "id": "_8jeFkmhk-k7"
      },
      "outputs": [],
      "source": [
        "# ARIMA forecast (already computed in Part A)\n",
        "arima_forecast = arima_res.get_forecast(steps=len(test))\n",
        "arima_pred = arima_forecast.predicted_mean\n",
        "arima_ci = arima_forecast.conf_int()\n",
        "\n",
        "# LSTM forecast alignment\n",
        "# Since LSTM uses sequences, it starts predicting after SEQ_LEN steps in test set\n",
        "lstm_pred_series = pd.Series(\n",
        "    lstm_pred.flatten(),\n",
        "    index=test.index[SEQ_LEN:]\n",
        ")"
      ]
    },
    {
      "cell_type": "markdown",
      "metadata": {
        "id": "wb-LLwdJlXMG"
      },
      "source": [
        "Results Table"
      ]
    },
    {
      "cell_type": "code",
      "execution_count": null,
      "metadata": {
        "id": "9FjbDOOjlYvk"
      },
      "outputs": [],
      "source": [
        "results = pd.DataFrame({\n",
        "    'Model': ['ARIMA', 'LSTM'],\n",
        "    'MAE': [arima_mae, lstm_mae],\n",
        "    'RMSE': [arima_rmse, lstm_rmse],\n",
        "    'MAPE(%)': [arima_mape, lstm_mape]\n",
        "})\n",
        "print(results)"
      ]
    },
    {
      "cell_type": "markdown",
      "metadata": {
        "id": "hg938sYymAfe"
      },
      "source": [
        "Plot"
      ]
    },
    {
      "cell_type": "code",
      "execution_count": null,
      "metadata": {
        "colab": {
          "base_uri": "https://localhost:8080/",
          "height": 616
        },
        "id": "eOxPxL7AsfcU",
        "outputId": "4e40099f-d5d1-41c9-dbb2-bae7d563839f"
      },
      "outputs": [
        {
          "name": "stdout",
          "output_type": "stream",
          "text": [
            "   Model        MAE       RMSE    MAPE(%)\n",
            "0  ARIMA  64.371380  78.281635  25.093194\n",
            "1   LSTM  11.331904  15.103096   4.204777\n"
          ]
        },
        {
          "data": {
            "image/png": "[encoded data removed]",
            "text/plain": [
              "<Figure size 1200x600 with 1 Axes>"
            ]
          },
          "metadata": {},
          "output_type": "display_data"
        }
      ],
      "source": [
        "plt.figure(figsize=(12,6))\n",
        "plt.plot(train.index, train, label='Train (historical)', color='black')\n",
        "plt.plot(test.index, test, label='Test (actual)', color='gray')\n",
        "\n",
        "# ARIMA plot\n",
        "plt.plot(arima_pred.index, arima_pred, label='ARIMA forecast', color='blue')\n",
        "plt.fill_between(arima_ci.index,\n",
        "                 arima_ci.iloc[:, 0],\n",
        "                 arima_ci.iloc[:, 1], color='blue', alpha=0.2, label='ARIMA 95% CI')\n",
        "\n",
        "# LSTM plot\n",
        "plt.plot(lstm_pred_series.index, lstm_pred_series, label='LSTM forecast', color='orange')\n",
        "\n",
        "plt.title('TSLA: Actual vs ARIMA & LSTM Forecasts')\n",
        "plt.xlabel('Date')\n",
        "plt.ylabel('Price')\n",
        "plt.legend()\n",
        "plt.show()"
      ]
    },
    {
      "cell_type": "markdown",
      "metadata": {
        "id": "oQnTsPOFmGxE"
      },
      "source": [
        "Save the LSTM model"
      ]
    },
    {
      "cell_type": "code",
      "execution_count": null,
      "metadata": {
        "id": "6tDbwUgw1xpJ"
      },
      "outputs": [],
      "source": [
        "model.save(\"lstm_model.h5\")\n",
        "\n",
        "# Save the scaler\n",
        "import joblib\n",
        "joblib.dump(scaler, \"scaler.save\")\n",
        "\n",
        "# Optional: save important variables\n",
        "import pickle\n",
        "with open(\"lstm_vars.pkl\", \"wb\") as f:\n",
        "    pickle.dump({\"SEQ_LEN\": SEQ_LEN, \"train\": train, \"test\": test}, f)\n"
      ]
    },
    {
      "cell_type": "code",
      "execution_count": null,
      "metadata": {
        "id": "QhxXIcX47Qrs"
      },
      "outputs": [],
      "source": [
        "model.save(\"lstm_model.keras\")"
      ]
    }
  ],
  "metadata": {
    "colab": {
      "provenance": []
    },
    "kernelspec": {
      "display_name": "Python 3",
      "name": "python3"
    },
    "language_info": {
      "name": "python"
    }
  },
  "nbformat": 4,
  "nbformat_minor": 0
}
