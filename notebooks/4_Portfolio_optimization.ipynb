{
  "cells": [
    {
      "cell_type": "markdown",
      "metadata": {
        "id": "nF3EO6OToaOT"
      },
      "source": [
        "# Portfolio Optimization Based on Forecast"
      ]
    },
    {
      "cell_type": "markdown",
      "metadata": {
        "id": "6TMJwM_yokML"
      },
      "source": [
        "Setup and Imports"
      ]
    },
    {
      "cell_type": "code",
      "execution_count": null,
      "metadata": {
        "colab": {
          "base_uri": "https://localhost:8080/"
        },
        "id": "u93ifuO4ok7y",
        "outputId": "ba93cbc1-b4bd-4868-b727-6a98ca21d481"
      },
      "outputs": [
        {
          "name": "stdout",
          "output_type": "stream",
          "text": [
            "Using price range: 2015-08-13 to 2025-07-30\n"
          ]
        }
      ],
      "source": [
        "import os\n",
        "import numpy as np\n",
        "import pandas as pd\n",
        "import matplotlib.pyplot as plt\n",
        "from pypfopt import EfficientFrontier, plotting\n",
        "\n",
        "# USER CONFIG\n",
        "PROCESSED_FILE = \"processed_data.csv\"\n",
        "FORECAST_CSV = \"forecast_df.csv\"\n",
        "MIN_TSLA_WEIGHT = 0.10\n",
        "MAX_WEIGHT = 0.6\n",
        "RISK_FREE = 0.0\n",
        "HIST_WINDOW_DAYS = None  # None => full history\n",
        "OUTDIR = \"task4_outputs\"\n",
        "os.makedirs(OUTDIR, exist_ok=True)\n",
        "\n",
        "# Load processed data\n",
        "df = pd.read_csv(PROCESSED_FILE, parse_dates=[\"Date\"], index_col=\"Date\")\n",
        "prices = pd.DataFrame({\n",
        "    \"TSLA\": df[\"Close_TSLA\"],\n",
        "    \"BND\":  df[\"Close_BND\"],\n",
        "    \"SPY\":  df[\"Close_SPY\"]\n",
        "}).dropna()\n",
        "\n",
        "print(\"Using price range:\", prices.index.min().date(), \"to\", prices.index.max().date())"
      ]
    },
    {
      "cell_type": "markdown",
      "metadata": {
        "id": "ue8rG_oupDJ8"
      },
      "source": [
        "Compute historical daily returns"
      ]
    },
    {
      "cell_type": "code",
      "execution_count": 5,
      "metadata": {
        "id": "kzpyeiVepGRQ"
      },
      "outputs": [],
      "source": [
        "rets = prices.pct_change().dropna()\n",
        "if HIST_WINDOW_DAYS is not None:\n",
        "    rets = rets.iloc[-HIST_WINDOW_DAYS:]"
      ]
    },
    {
      "cell_type": "markdown",
      "metadata": {
        "id": "pWWA8039pHdX"
      },
      "source": [
        "Load TSLA forecast -> compute expected return for TSLA"
      ]
    },
    {
      "cell_type": "code",
      "execution_count": 6,
      "metadata": {
        "id": "cj4bvlvHpYXk"
      },
      "outputs": [],
      "source": [
        "if \"forecast_df\" in globals():\n",
        "    tsla_forecast = forecast_df[\"Forecast\"]\n",
        "else:\n",
        "    if os.path.exists(FORECAST_CSV):\n",
        "        ff = pd.read_csv(FORECAST_CSV, parse_dates=True, index_col=0)\n",
        "        # try common column names\n",
        "        if \"Forecast\" in ff.columns:\n",
        "            tsla_forecast = ff[\"Forecast\"]\n",
        "        elif \"LSTM_median\" in ff.columns:\n",
        "            tsla_forecast = ff[\"LSTM_median\"]\n",
        "        elif \"LSTM_point\" in ff.columns:\n",
        "            tsla_forecast = ff[\"LSTM_point\"]\n",
        "        else:\n",
        "            tsla_forecast = ff.select_dtypes(include=[np.number]).iloc[:,0]\n",
        "    else:\n",
        "        raise FileNotFoundError(\"No forecast_df in memory and forecast_df.csv not found. Provide Task 3 output.\")"
      ]
    },
    {
      "cell_type": "markdown",
      "metadata": {
        "id": "Kb7Gf2AZpzkY"
      },
      "source": [
        "Compute expected annual return for TSLA from forecast"
      ]
    },
    {
      "cell_type": "code",
      "execution_count": 7,
      "metadata": {
        "colab": {
          "base_uri": "https://localhost:8080/"
        },
        "id": "OKtXnEiAp2kQ",
        "outputId": "67a3142a-adeb-4ebf-abbd-072ad11b503f"
      },
      "outputs": [
        {
          "name": "stdout",
          "output_type": "stream",
          "text": [
            "TSLA expected annual return from forecast: 11.0635%\n"
          ]
        }
      ],
      "source": [
        "tsla_forecast_daily = tsla_forecast.pct_change().dropna()\n",
        "mu_tsla_annual = float(tsla_forecast_daily.mean() * 252)   # scalar\n",
        "print(f\"TSLA expected annual return from forecast: {mu_tsla_annual:.4%}\")"
      ]
    },
    {
      "cell_type": "markdown",
      "metadata": {
        "id": "8yjVAmwkp7c5"
      },
      "source": [
        "Historical expected returns for BND & SPY"
      ]
    },
    {
      "cell_type": "code",
      "execution_count": 8,
      "metadata": {
        "colab": {
          "base_uri": "https://localhost:8080/"
        },
        "id": "Tj4Kk2GnqBIW",
        "outputId": "afb05b4e-83ec-45d7-854b-eb9d3775dfd6"
      },
      "outputs": [
        {
          "name": "stdout",
          "output_type": "stream",
          "text": [
            "BND historical annual return: 1.8505%\n",
            "SPY historical annual return: 14.4969%\n"
          ]
        }
      ],
      "source": [
        "mu_bnd = float(rets[\"BND\"].mean() * 252)\n",
        "mu_spy = float(rets[\"SPY\"].mean() * 252)\n",
        "print(f\"BND historical annual return: {mu_bnd:.4%}\")\n",
        "print(f\"SPY historical annual return: {mu_spy:.4%}\")"
      ]
    },
    {
      "cell_type": "markdown",
      "metadata": {
        "id": "6IIkX4wFqEIy"
      },
      "source": [
        "Compose expected returns vector and covariance matrix (annualized)"
      ]
    },
    {
      "cell_type": "code",
      "execution_count": 9,
      "metadata": {
        "colab": {
          "base_uri": "https://localhost:8080/"
        },
        "id": "tOaYa3mKqFrS",
        "outputId": "a4dc2400-7814-45f8-eb17-65ea0e4c678b"
      },
      "outputs": [
        {
          "name": "stdout",
          "output_type": "stream",
          "text": [
            "\n",
            "Expected returns (annual):\n",
            "TSLA    0.110635\n",
            "BND     0.018505\n",
            "SPY     0.144969\n",
            "dtype: float64\n",
            "\n",
            "Annualized covariance matrix:\n",
            "          TSLA       BND       SPY\n",
            "TSLA  0.388191  0.002277  0.057474\n",
            "BND   0.002277  0.002721  0.000907\n",
            "SPY   0.057474  0.000907  0.031125\n"
          ]
        }
      ],
      "source": [
        "tickers = [\"TSLA\",\"BND\",\"SPY\"]\n",
        "mu_vector = pd.Series([mu_tsla_annual, mu_bnd, mu_spy], index=tickers)\n",
        "S = rets.cov() * 252\n",
        "S = S.loc[tickers, tickers]   # ensure order\n",
        "print(\"\\nExpected returns (annual):\")\n",
        "print(mu_vector)\n",
        "print(\"\\nAnnualized covariance matrix:\")\n",
        "print(S)"
      ]
    },
    {
      "cell_type": "markdown",
      "metadata": {
        "id": "hVHHX5gIqNTt"
      },
      "source": [
        "Setup EfficientFrontier and constraints"
      ]
    },
    {
      "cell_type": "code",
      "execution_count": 10,
      "metadata": {
        "id": "olL_WLdKqU9v"
      },
      "outputs": [],
      "source": [
        "# EfficientFrontier can accept pd.Series and pd.DataFrame with tickers index\n",
        "ef = EfficientFrontier(mu_vector, S)\n",
        "\n",
        "# Enforce long-only (no shorts)\n",
        "ef.add_constraint(lambda w: w >= 0)\n",
        "\n",
        "# Enforce minimum TSLA weight if requested\n",
        "if MIN_TSLA_WEIGHT is not None and MIN_TSLA_WEIGHT > 0:\n",
        "    # Ensure min weight is feasible: it must be <= 1\n",
        "    if MIN_TSLA_WEIGHT >= 1.0:\n",
        "        raise ValueError(\"MIN_TSLA_WEIGHT must be less than 1.0 (e.g., 0.1 for 10%)\")\n",
        "    ef.add_constraint(lambda w: w[0] >= float(MIN_TSLA_WEIGHT))\n",
        "\n",
        "# Enforce per-asset max weight if specified\n",
        "if MAX_WEIGHT is not None:\n",
        "    if not (0 < MAX_WEIGHT <= 1):\n",
        "        raise ValueError(\"MAX_WEIGHT must be in (0,1]\")\n",
        "    ef.add_constraint(lambda w: w <= float(MAX_WEIGHT))"
      ]
    },
    {
      "cell_type": "markdown",
      "metadata": {
        "id": "Df__JL5cqWje"
      },
      "source": [
        "Optimize: Max Sharpe (tangency)"
      ]
    },
    {
      "cell_type": "code",
      "execution_count": 11,
      "metadata": {
        "id": "fMXENZFMqbTV"
      },
      "outputs": [],
      "source": [
        "try:\n",
        "    ef_max = ef  # already configured with constraints\n",
        "    raw_weights = ef_max.max_sharpe(risk_free_rate=RISK_FREE)\n",
        "    weights_max = ef_max.clean_weights()\n",
        "    perf_max = ef_max.portfolio_performance(risk_free_rate=RISK_FREE, verbose=False)\n",
        "except Exception as e:\n",
        "    raise RuntimeError(f\"Max Sharpe optimization failed: {e}\")"
      ]
    },
    {
      "cell_type": "markdown",
      "metadata": {
        "id": "8hnH1FoWqdKT"
      },
      "source": [
        "Optimize: Min Volatility (with same constraints)"
      ]
    },
    {
      "cell_type": "code",
      "execution_count": 12,
      "metadata": {
        "id": "S0bTNoReqco-"
      },
      "outputs": [],
      "source": [
        "ef_min = EfficientFrontier(mu_vector, S)\n",
        "ef_min.add_constraint(lambda w: w >= 0)\n",
        "if MIN_TSLA_WEIGHT and MIN_TSLA_WEIGHT > 0:\n",
        "    ef_min.add_constraint(lambda w: w[0] >= float(MIN_TSLA_WEIGHT))\n",
        "if MAX_WEIGHT is not None:\n",
        "    ef_min.add_constraint(lambda w: w <= float(MAX_WEIGHT))\n",
        "\n",
        "try:\n",
        "    raw_weights_min = ef_min.min_volatility()\n",
        "    weights_min = ef_min.clean_weights()\n",
        "    perf_min = ef_min.portfolio_performance(risk_free_rate=RISK_FREE, verbose=False)\n",
        "except Exception as e:\n",
        "    raise RuntimeError(f\"Min Vol optimization failed: {e}\")"
      ]
    },
    {
      "cell_type": "markdown",
      "metadata": {
        "id": "4NDY4OoXqj0m"
      },
      "source": [
        "Efficient Frontier (with constraints) - Plot"
      ]
    },
    {
      "cell_type": "code",
      "execution_count": 13,
      "metadata": {
        "colab": {
          "base_uri": "https://localhost:8080/",
          "height": 607
        },
        "id": "k4JrnvuTqkYl",
        "outputId": "3318d5f4-fb5f-4dde-c784-700062059135"
      },
      "outputs": [
        {
          "data": {
            "image/png": "[encoded data removed]",
            "text/plain": [
              "<Figure size 1000x600 with 1 Axes>"
            ]
          },
          "metadata": {},
          "output_type": "display_data"
        }
      ],
      "source": [
        "# Build an ef_plot object with same constraints for plotting\n",
        "ef_plot = EfficientFrontier(mu_vector, S)\n",
        "ef_plot.add_constraint(lambda w: w >= 0)\n",
        "if MIN_TSLA_WEIGHT and MIN_TSLA_WEIGHT > 0:\n",
        "    ef_plot.add_constraint(lambda w: w[0] >= float(MIN_TSLA_WEIGHT))\n",
        "if MAX_WEIGHT is not None:\n",
        "    ef_plot.add_constraint(lambda w: w <= float(MAX_WEIGHT))\n",
        "\n",
        "fig, ax = plt.subplots(figsize=(10,6))\n",
        "plotting.plot_efficient_frontier(ef_plot, ax=ax, show_assets=False)\n",
        "# Mark portfolios\n",
        "ax.scatter(perf_max[1], perf_max[0], marker='*', color='gold', s=200, label='Max Sharpe')\n",
        "ax.scatter(perf_min[1], perf_min[0], marker='o', color='green', s=120, label='Min Vol')\n",
        "ax.set_xlabel(\"Annualized Volatility\")\n",
        "ax.set_ylabel(\"Annualized Return\")\n",
        "ax.set_title(\"Efficient Frontier (constrained) - TSLA min weight enforced\")\n",
        "ax.legend()\n",
        "plt.grid(alpha=0.2)\n",
        "plt.tight_layout()\n",
        "plt.show()"
      ]
    },
    {
      "cell_type": "markdown",
      "metadata": {
        "id": "RfcdGhqaqwsL"
      },
      "source": [
        "Print & save results"
      ]
    },
    {
      "cell_type": "code",
      "execution_count": 14,
      "metadata": {
        "colab": {
          "base_uri": "https://localhost:8080/"
        },
        "id": "lAi5pAXaqyEh",
        "outputId": "38f3611e-d82b-4183-a6c1-22539ec7da46"
      },
      "outputs": [
        {
          "name": "stdout",
          "output_type": "stream",
          "text": [
            "\n",
            "Maximum Sharpe Portfolio (constrained):\n",
            "  TSLA: 10.00%\n",
            "  BND: 30.00%\n",
            "  SPY: 60.00%\n",
            "  Expected annual return: 10.36%\n",
            "  Annual volatility: 15.06%\n",
            "  Sharpe ratio (rf=0.0): 0.69\n",
            "\n",
            "Minimum Volatility Portfolio (constrained):\n",
            "  TSLA: 10.00%\n",
            "  BND: 60.00%\n",
            "  SPY: 30.00%\n",
            "  Expected annual return: 6.57%\n",
            "  Annual volatility: 10.82%\n",
            "  Sharpe ratio (rf=0.0): 0.61\n"
          ]
        }
      ],
      "source": [
        "def print_port(name, weights, perf):\n",
        "    ann_ret, ann_vol, ann_sharpe = perf\n",
        "    print(f\"\\n{name}:\")\n",
        "    for k, v in weights.items():\n",
        "        print(f\"  {k}: {v:.2%}\")\n",
        "    print(f\"  Expected annual return: {ann_ret:.2%}\")\n",
        "    print(f\"  Annual volatility: {ann_vol:.2%}\")\n",
        "    print(f\"  Sharpe ratio (rf={RISK_FREE}): {ann_sharpe:.2f}\")\n",
        "\n",
        "print_port(\"Maximum Sharpe Portfolio (constrained)\", weights_max, perf_max)\n",
        "print_port(\"Minimum Volatility Portfolio (constrained)\", weights_min, perf_min)"
      ]
    },
    {
      "cell_type": "code",
      "execution_count": 15,
      "metadata": {
        "colab": {
          "base_uri": "https://localhost:8080/"
        },
        "collapsed": true,
        "id": "eYQ6ZBnyb81J",
        "outputId": "a57bdb9b-ee06-4cfb-f552-84ba0f12241c"
      },
      "outputs": [
        {
          "name": "stdout",
          "output_type": "stream",
          "text": [
            "\n",
            "Saved weights to task4_outputs\n"
          ]
        }
      ],
      "source": [
        "# Save CSVs\n",
        "pd.Series(weights_max).rename(\"weight\").to_csv(os.path.join(OUTDIR, \"max_sharpe_weights_constrained.csv\"))\n",
        "pd.Series(weights_min).rename(\"weight\").to_csv(os.path.join(OUTDIR, \"min_vol_weights_constrained.csv\"))\n",
        "print(f\"\\nSaved weights to {OUTDIR}\")"
      ]
    }
  ],
  "metadata": {
    "colab": {
      "provenance": []
    },
    "kernelspec": {
      "display_name": "Python 3",
      "name": "python3"
    },
    "language_info": {
      "name": "python"
    }
  },
  "nbformat": 4,
  "nbformat_minor": 0
}
